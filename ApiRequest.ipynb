{
 "cells": [
  {
   "cell_type": "code",
   "execution_count": 2,
   "id": "4c476cdf",
   "metadata": {},
   "outputs": [],
   "source": [
    "import requests\n",
    "import json\n",
    "import pymysql\n",
    "import pandas as pd"
   ]
  },
  {
   "cell_type": "code",
   "execution_count": 3,
   "id": "d5490882",
   "metadata": {},
   "outputs": [],
   "source": [
    "response = requests.get(\"https://api.openweathermap.org/data/2.5/weather?lat=35&lon=139&appid=c166a23bf20918eb9eb473980b75710e\")"
   ]
  },
  {
   "cell_type": "code",
   "execution_count": 4,
   "id": "3833fda6",
   "metadata": {},
   "outputs": [
    {
     "name": "stdout",
     "output_type": "stream",
     "text": [
      "200\n"
     ]
    }
   ],
   "source": [
    "print(response.status_code)"
   ]
  },
  {
   "cell_type": "code",
   "execution_count": 7,
   "id": "d86c1a84",
   "metadata": {},
   "outputs": [
    {
     "data": {
      "text/plain": [
       "{'coord': {'lon': 139, 'lat': 35},\n",
       " 'weather': [{'id': 804,\n",
       "   'main': 'Clouds',\n",
       "   'description': 'overcast clouds',\n",
       "   'icon': '04d'}],\n",
       " 'base': 'stations',\n",
       " 'main': {'temp': 287.21,\n",
       "  'feels_like': 286.92,\n",
       "  'temp_min': 287.21,\n",
       "  'temp_max': 288.8,\n",
       "  'pressure': 1005,\n",
       "  'humidity': 86},\n",
       " 'visibility': 613,\n",
       " 'wind': {'speed': 0.45, 'deg': 125, 'gust': 0.89},\n",
       " 'clouds': {'all': 100},\n",
       " 'dt': 1648366838,\n",
       " 'sys': {'type': 2,\n",
       "  'id': 2019346,\n",
       "  'country': 'JP',\n",
       "  'sunrise': 1648327114,\n",
       "  'sunset': 1648371617},\n",
       " 'timezone': 32400,\n",
       " 'id': 1851632,\n",
       " 'name': 'Shuzenji',\n",
       " 'cod': 200}"
      ]
     },
     "execution_count": 7,
     "metadata": {},
     "output_type": "execute_result"
    }
   ],
   "source": [
    "# print(response.json())\n",
    "\n",
    "# import json\n",
    "a = response.json()\n",
    "# print(json.dumps(a))\n",
    "# b = json.dumps(a)\n",
    "# type(b)\n",
    "# type(a)\n",
    "\n",
    "result = {}\n",
    "for k, v in a.items():\n",
    "    if(isinstance(v,dict)):\n",
    "        for key, value in v.items():\n",
    "#             print(f\"{k}_{key}\", value)\n",
    "            result[f\"{k}_{key}\"] = value\n",
    "        \n",
    "        continue\n",
    "            \n",
    "    result[k] = v\n",
    "a\n",
    "    \n",
    "    "
   ]
  },
  {
   "cell_type": "code",
   "execution_count": 8,
   "id": "9e8a7587",
   "metadata": {},
   "outputs": [
    {
     "data": {
      "text/plain": [
       "25"
      ]
     },
     "execution_count": 8,
     "metadata": {},
     "output_type": "execute_result"
    }
   ],
   "source": [
    "len(result)"
   ]
  },
  {
   "cell_type": "code",
   "execution_count": 9,
   "id": "5ebc1b00",
   "metadata": {},
   "outputs": [
    {
     "data": {
      "text/plain": [
       "24"
      ]
     },
     "execution_count": 9,
     "metadata": {},
     "output_type": "execute_result"
    }
   ],
   "source": [
    "new_result = {k: result[k] for k in result.keys() - {'weather'}}\n",
    "len(new_result)"
   ]
  },
  {
   "cell_type": "code",
   "execution_count": 10,
   "id": "ce1798f0",
   "metadata": {},
   "outputs": [],
   "source": [
    "connection = pymysql.connect(host='localhost', user='root', password='', database='weather')"
   ]
  },
  {
   "cell_type": "code",
   "execution_count": 11,
   "id": "ea9e593c",
   "metadata": {},
   "outputs": [],
   "source": [
    "cursor = connection.cursor()\n",
    "# cursor.execute('CREATE DATABASE weather')\n",
    "# cursor.execute(\"CREATE TABLE weather_data (Weatherkeys VARCHAR(255), Weathervalues VARCHAR(255))\")"
   ]
  },
  {
   "cell_type": "code",
   "execution_count": 12,
   "id": "ed7d42d0",
   "metadata": {},
   "outputs": [],
   "source": [
    "df = pd.DataFrame.from_dict(new_result, orient='index', columns=['values'])"
   ]
  },
  {
   "cell_type": "code",
   "execution_count": 13,
   "id": "bf286e39",
   "metadata": {},
   "outputs": [],
   "source": [
    "from sqlalchemy import create_engine\n",
    "my_conn = create_engine(\"mysql+mysqldb://root:@localhost/weather\")\n",
    "try:\n",
    "    df.to_sql('weather_data', con=my_conn, index=True, if_exists='replace') \n",
    "except Exception as err:\n",
    "    print(f\"Error: '{err}'\")"
   ]
  },
  {
   "cell_type": "code",
   "execution_count": null,
   "id": "15d2f6a0",
   "metadata": {},
   "outputs": [],
   "source": []
  }
 ],
 "metadata": {
  "kernelspec": {
   "display_name": "Python 3 (ipykernel)",
   "language": "python",
   "name": "python3"
  },
  "language_info": {
   "codemirror_mode": {
    "name": "ipython",
    "version": 3
   },
   "file_extension": ".py",
   "mimetype": "text/x-python",
   "name": "python",
   "nbconvert_exporter": "python",
   "pygments_lexer": "ipython3",
   "version": "3.9.7"
  }
 },
 "nbformat": 4,
 "nbformat_minor": 5
}
